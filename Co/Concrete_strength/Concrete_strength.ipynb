{
  "nbformat": 4,
  "nbformat_minor": 0,
  "metadata": {
    "colab": {
      "name": "Concrete_strength.ipynb",
      "provenance": [],
      "collapsed_sections": []
    },
    "kernelspec": {
      "name": "python3",
      "display_name": "Python 3"
    },
    "language_info": {
      "name": "python"
    }
  },
  "cells": [
    {
      "cell_type": "code",
      "metadata": {
        "id": "VFXu8X4-okBj"
      },
      "source": [
        "import numpy as np \n",
        "import pandas as pd\n",
        "from sklearn.linear_model import LinearRegression\n",
        "from sklearn.metrics import mean_squared_error\n"
      ],
      "execution_count": 50,
      "outputs": []
    },
    {
      "cell_type": "code",
      "metadata": {
        "id": "lOIat71BonIJ"
      },
      "source": [
        "data = pd.read_excel('Concrete_Data.xls')"
      ],
      "execution_count": 36,
      "outputs": []
    },
    {
      "cell_type": "code",
      "metadata": {
        "colab": {
          "base_uri": "https://localhost:8080/"
        },
        "id": "PSquJvRposVG",
        "outputId": "ad95c6e4-a1f6-4c85-f869-03cb0032380e"
      },
      "source": [
        "\n",
        "print('SHAPE',data.shape)\n",
        "print('SIZE',data.size)\n"
      ],
      "execution_count": 37,
      "outputs": [
        {
          "output_type": "stream",
          "text": [
            "SHAPE (1030, 9)\n",
            "SIZE 9270\n"
          ],
          "name": "stdout"
        }
      ]
    },
    {
      "cell_type": "code",
      "metadata": {
        "colab": {
          "base_uri": "https://localhost:8080/"
        },
        "id": "_LOI5uEardG3",
        "outputId": "69a0c2da-a51b-4496-b6ab-b3003ec06a5c"
      },
      "source": [
        "#No null values\n",
        "data.isnull().sum()"
      ],
      "execution_count": 38,
      "outputs": [
        {
          "output_type": "execute_result",
          "data": {
            "text/plain": [
              "Cement (component 1)(kg in a m^3 mixture)                0\n",
              "Blast Furnace Slag (component 2)(kg in a m^3 mixture)    0\n",
              "Fly Ash (component 3)(kg in a m^3 mixture)               0\n",
              "Water  (component 4)(kg in a m^3 mixture)                0\n",
              "Superplasticizer (component 5)(kg in a m^3 mixture)      0\n",
              "Coarse Aggregate  (component 6)(kg in a m^3 mixture)     0\n",
              "Fine Aggregate (component 7)(kg in a m^3 mixture)        0\n",
              "Age (day)                                                0\n",
              "Concrete compressive strength(MPa, megapascals)          0\n",
              "dtype: int64"
            ]
          },
          "metadata": {
            "tags": []
          },
          "execution_count": 38
        }
      ]
    },
    {
      "cell_type": "code",
      "metadata": {
        "id": "LOx0dyEMsUsp"
      },
      "source": [
        "new_columns_dict = dict(zip(data.columns, data.columns.map(lambda x : x.replace(' ','_'))))\n"
      ],
      "execution_count": 39,
      "outputs": []
    },
    {
      "cell_type": "code",
      "metadata": {
        "id": "rgm0mqY_sUpr"
      },
      "source": [
        "df = data.rename(columns = new_columns_dict)"
      ],
      "execution_count": 40,
      "outputs": []
    },
    {
      "cell_type": "code",
      "metadata": {
        "colab": {
          "base_uri": "https://localhost:8080/",
          "height": 334
        },
        "id": "r1bEoaiOryQR",
        "outputId": "141d9d8d-c6ac-4653-dfd6-48560548ae2e"
      },
      "source": [
        "df.describe()"
      ],
      "execution_count": 41,
      "outputs": [
        {
          "output_type": "execute_result",
          "data": {
            "text/html": [
              "<div>\n",
              "<style scoped>\n",
              "    .dataframe tbody tr th:only-of-type {\n",
              "        vertical-align: middle;\n",
              "    }\n",
              "\n",
              "    .dataframe tbody tr th {\n",
              "        vertical-align: top;\n",
              "    }\n",
              "\n",
              "    .dataframe thead th {\n",
              "        text-align: right;\n",
              "    }\n",
              "</style>\n",
              "<table border=\"1\" class=\"dataframe\">\n",
              "  <thead>\n",
              "    <tr style=\"text-align: right;\">\n",
              "      <th></th>\n",
              "      <th>Cement_(component_1)(kg_in_a_m^3_mixture)</th>\n",
              "      <th>Blast_Furnace_Slag_(component_2)(kg_in_a_m^3_mixture)</th>\n",
              "      <th>Fly_Ash_(component_3)(kg_in_a_m^3_mixture)</th>\n",
              "      <th>Water__(component_4)(kg_in_a_m^3_mixture)</th>\n",
              "      <th>Superplasticizer_(component_5)(kg_in_a_m^3_mixture)</th>\n",
              "      <th>Coarse_Aggregate__(component_6)(kg_in_a_m^3_mixture)</th>\n",
              "      <th>Fine_Aggregate_(component_7)(kg_in_a_m^3_mixture)</th>\n",
              "      <th>Age_(day)</th>\n",
              "      <th>Concrete_compressive_strength(MPa,_megapascals)_</th>\n",
              "    </tr>\n",
              "  </thead>\n",
              "  <tbody>\n",
              "    <tr>\n",
              "      <th>count</th>\n",
              "      <td>1030.000000</td>\n",
              "      <td>1030.000000</td>\n",
              "      <td>1030.000000</td>\n",
              "      <td>1030.000000</td>\n",
              "      <td>1030.000000</td>\n",
              "      <td>1030.000000</td>\n",
              "      <td>1030.000000</td>\n",
              "      <td>1030.000000</td>\n",
              "      <td>1030.000000</td>\n",
              "    </tr>\n",
              "    <tr>\n",
              "      <th>mean</th>\n",
              "      <td>281.165631</td>\n",
              "      <td>73.895485</td>\n",
              "      <td>54.187136</td>\n",
              "      <td>181.566359</td>\n",
              "      <td>6.203112</td>\n",
              "      <td>972.918592</td>\n",
              "      <td>773.578883</td>\n",
              "      <td>45.662136</td>\n",
              "      <td>35.817836</td>\n",
              "    </tr>\n",
              "    <tr>\n",
              "      <th>std</th>\n",
              "      <td>104.507142</td>\n",
              "      <td>86.279104</td>\n",
              "      <td>63.996469</td>\n",
              "      <td>21.355567</td>\n",
              "      <td>5.973492</td>\n",
              "      <td>77.753818</td>\n",
              "      <td>80.175427</td>\n",
              "      <td>63.169912</td>\n",
              "      <td>16.705679</td>\n",
              "    </tr>\n",
              "    <tr>\n",
              "      <th>min</th>\n",
              "      <td>102.000000</td>\n",
              "      <td>0.000000</td>\n",
              "      <td>0.000000</td>\n",
              "      <td>121.750000</td>\n",
              "      <td>0.000000</td>\n",
              "      <td>801.000000</td>\n",
              "      <td>594.000000</td>\n",
              "      <td>1.000000</td>\n",
              "      <td>2.331808</td>\n",
              "    </tr>\n",
              "    <tr>\n",
              "      <th>25%</th>\n",
              "      <td>192.375000</td>\n",
              "      <td>0.000000</td>\n",
              "      <td>0.000000</td>\n",
              "      <td>164.900000</td>\n",
              "      <td>0.000000</td>\n",
              "      <td>932.000000</td>\n",
              "      <td>730.950000</td>\n",
              "      <td>7.000000</td>\n",
              "      <td>23.707115</td>\n",
              "    </tr>\n",
              "    <tr>\n",
              "      <th>50%</th>\n",
              "      <td>272.900000</td>\n",
              "      <td>22.000000</td>\n",
              "      <td>0.000000</td>\n",
              "      <td>185.000000</td>\n",
              "      <td>6.350000</td>\n",
              "      <td>968.000000</td>\n",
              "      <td>779.510000</td>\n",
              "      <td>28.000000</td>\n",
              "      <td>34.442774</td>\n",
              "    </tr>\n",
              "    <tr>\n",
              "      <th>75%</th>\n",
              "      <td>350.000000</td>\n",
              "      <td>142.950000</td>\n",
              "      <td>118.270000</td>\n",
              "      <td>192.000000</td>\n",
              "      <td>10.160000</td>\n",
              "      <td>1029.400000</td>\n",
              "      <td>824.000000</td>\n",
              "      <td>56.000000</td>\n",
              "      <td>46.136287</td>\n",
              "    </tr>\n",
              "    <tr>\n",
              "      <th>max</th>\n",
              "      <td>540.000000</td>\n",
              "      <td>359.400000</td>\n",
              "      <td>200.100000</td>\n",
              "      <td>247.000000</td>\n",
              "      <td>32.200000</td>\n",
              "      <td>1145.000000</td>\n",
              "      <td>992.600000</td>\n",
              "      <td>365.000000</td>\n",
              "      <td>82.599225</td>\n",
              "    </tr>\n",
              "  </tbody>\n",
              "</table>\n",
              "</div>"
            ],
            "text/plain": [
              "       Cement_(component_1)(kg_in_a_m^3_mixture)  ...  Concrete_compressive_strength(MPa,_megapascals)_\n",
              "count                                1030.000000  ...                                       1030.000000\n",
              "mean                                  281.165631  ...                                         35.817836\n",
              "std                                   104.507142  ...                                         16.705679\n",
              "min                                   102.000000  ...                                          2.331808\n",
              "25%                                   192.375000  ...                                         23.707115\n",
              "50%                                   272.900000  ...                                         34.442774\n",
              "75%                                   350.000000  ...                                         46.136287\n",
              "max                                   540.000000  ...                                         82.599225\n",
              "\n",
              "[8 rows x 9 columns]"
            ]
          },
          "metadata": {
            "tags": []
          },
          "execution_count": 41
        }
      ]
    },
    {
      "cell_type": "code",
      "metadata": {
        "colab": {
          "base_uri": "https://localhost:8080/"
        },
        "id": "wgPZ-tAyv-Il",
        "outputId": "96132b08-3001-4be2-b4f5-7c1b24669755"
      },
      "source": [
        "df.columns"
      ],
      "execution_count": 42,
      "outputs": [
        {
          "output_type": "execute_result",
          "data": {
            "text/plain": [
              "Index(['Cement_(component_1)(kg_in_a_m^3_mixture)',\n",
              "       'Blast_Furnace_Slag_(component_2)(kg_in_a_m^3_mixture)',\n",
              "       'Fly_Ash_(component_3)(kg_in_a_m^3_mixture)',\n",
              "       'Water__(component_4)(kg_in_a_m^3_mixture)',\n",
              "       'Superplasticizer_(component_5)(kg_in_a_m^3_mixture)',\n",
              "       'Coarse_Aggregate__(component_6)(kg_in_a_m^3_mixture)',\n",
              "       'Fine_Aggregate_(component_7)(kg_in_a_m^3_mixture)', 'Age_(day)',\n",
              "       'Concrete_compressive_strength(MPa,_megapascals)_'],\n",
              "      dtype='object')"
            ]
          },
          "metadata": {
            "tags": []
          },
          "execution_count": 42
        }
      ]
    },
    {
      "cell_type": "code",
      "metadata": {
        "id": "KdXjBbI9sPCR"
      },
      "source": [
        "#Separing Features and Target\n",
        "y = df['Concrete_compressive_strength(MPa,_megapascals)_']\n",
        "X = df[['Cement_(component_1)(kg_in_a_m^3_mixture)',\n",
        "       'Blast_Furnace_Slag_(component_2)(kg_in_a_m^3_mixture)',\n",
        "       'Fly_Ash_(component_3)(kg_in_a_m^3_mixture)',\n",
        "       'Water__(component_4)(kg_in_a_m^3_mixture)',\n",
        "       'Superplasticizer_(component_5)(kg_in_a_m^3_mixture)',\n",
        "       'Coarse_Aggregate__(component_6)(kg_in_a_m^3_mixture)',\n",
        "       'Fine_Aggregate_(component_7)(kg_in_a_m^3_mixture)', 'Age_(day)']]"
      ],
      "execution_count": 43,
      "outputs": []
    },
    {
      "cell_type": "code",
      "metadata": {
        "colab": {
          "base_uri": "https://localhost:8080/",
          "height": 241
        },
        "id": "caPrV6c_wD-j",
        "outputId": "d41e6ac5-7a62-443b-a854-6cda5c259a50"
      },
      "source": [
        ""
      ],
      "execution_count": 44,
      "outputs": [
        {
          "output_type": "execute_result",
          "data": {
            "text/html": [
              "<div>\n",
              "<style scoped>\n",
              "    .dataframe tbody tr th:only-of-type {\n",
              "        vertical-align: middle;\n",
              "    }\n",
              "\n",
              "    .dataframe tbody tr th {\n",
              "        vertical-align: top;\n",
              "    }\n",
              "\n",
              "    .dataframe thead th {\n",
              "        text-align: right;\n",
              "    }\n",
              "</style>\n",
              "<table border=\"1\" class=\"dataframe\">\n",
              "  <thead>\n",
              "    <tr style=\"text-align: right;\">\n",
              "      <th></th>\n",
              "      <th>Cement_(component_1)(kg_in_a_m^3_mixture)</th>\n",
              "      <th>Blast_Furnace_Slag_(component_2)(kg_in_a_m^3_mixture)</th>\n",
              "      <th>Fly_Ash_(component_3)(kg_in_a_m^3_mixture)</th>\n",
              "      <th>Water__(component_4)(kg_in_a_m^3_mixture)</th>\n",
              "      <th>Superplasticizer_(component_5)(kg_in_a_m^3_mixture)</th>\n",
              "      <th>Coarse_Aggregate__(component_6)(kg_in_a_m^3_mixture)</th>\n",
              "      <th>Fine_Aggregate_(component_7)(kg_in_a_m^3_mixture)</th>\n",
              "      <th>Age_(day)</th>\n",
              "    </tr>\n",
              "  </thead>\n",
              "  <tbody>\n",
              "    <tr>\n",
              "      <th>0</th>\n",
              "      <td>540.0</td>\n",
              "      <td>0.0</td>\n",
              "      <td>0.0</td>\n",
              "      <td>162.0</td>\n",
              "      <td>2.5</td>\n",
              "      <td>1040.0</td>\n",
              "      <td>676.0</td>\n",
              "      <td>28</td>\n",
              "    </tr>\n",
              "    <tr>\n",
              "      <th>1</th>\n",
              "      <td>540.0</td>\n",
              "      <td>0.0</td>\n",
              "      <td>0.0</td>\n",
              "      <td>162.0</td>\n",
              "      <td>2.5</td>\n",
              "      <td>1055.0</td>\n",
              "      <td>676.0</td>\n",
              "      <td>28</td>\n",
              "    </tr>\n",
              "    <tr>\n",
              "      <th>2</th>\n",
              "      <td>332.5</td>\n",
              "      <td>142.5</td>\n",
              "      <td>0.0</td>\n",
              "      <td>228.0</td>\n",
              "      <td>0.0</td>\n",
              "      <td>932.0</td>\n",
              "      <td>594.0</td>\n",
              "      <td>270</td>\n",
              "    </tr>\n",
              "    <tr>\n",
              "      <th>3</th>\n",
              "      <td>332.5</td>\n",
              "      <td>142.5</td>\n",
              "      <td>0.0</td>\n",
              "      <td>228.0</td>\n",
              "      <td>0.0</td>\n",
              "      <td>932.0</td>\n",
              "      <td>594.0</td>\n",
              "      <td>365</td>\n",
              "    </tr>\n",
              "    <tr>\n",
              "      <th>4</th>\n",
              "      <td>198.6</td>\n",
              "      <td>132.4</td>\n",
              "      <td>0.0</td>\n",
              "      <td>192.0</td>\n",
              "      <td>0.0</td>\n",
              "      <td>978.4</td>\n",
              "      <td>825.5</td>\n",
              "      <td>360</td>\n",
              "    </tr>\n",
              "  </tbody>\n",
              "</table>\n",
              "</div>"
            ],
            "text/plain": [
              "   Cement_(component_1)(kg_in_a_m^3_mixture)  ...  Age_(day)\n",
              "0                                      540.0  ...         28\n",
              "1                                      540.0  ...         28\n",
              "2                                      332.5  ...        270\n",
              "3                                      332.5  ...        365\n",
              "4                                      198.6  ...        360\n",
              "\n",
              "[5 rows x 8 columns]"
            ]
          },
          "metadata": {
            "tags": []
          },
          "execution_count": 44
        }
      ]
    },
    {
      "cell_type": "code",
      "metadata": {
        "colab": {
          "base_uri": "https://localhost:8080/"
        },
        "id": "G0svtUaYwFLT",
        "outputId": "ab464534-dfe0-456c-9df1-707bfbdc138c"
      },
      "source": [
        "#Fitting the model\n",
        "\n",
        "linear_regression = LinearRegression()\n",
        "linear_regression.fit(X,y)"
      ],
      "execution_count": 46,
      "outputs": [
        {
          "output_type": "execute_result",
          "data": {
            "text/plain": [
              "LinearRegression(copy_X=True, fit_intercept=True, n_jobs=None, normalize=False)"
            ]
          },
          "metadata": {
            "tags": []
          },
          "execution_count": 46
        }
      ]
    },
    {
      "cell_type": "code",
      "metadata": {
        "id": "-4DjKWCwwr0O"
      },
      "source": [
        "#Predicting\n",
        "\n",
        "y_pred = linear_regression.predict(X)"
      ],
      "execution_count": 47,
      "outputs": []
    },
    {
      "cell_type": "code",
      "metadata": {
        "colab": {
          "base_uri": "https://localhost:8080/"
        },
        "id": "sr1XaV24xEuG",
        "outputId": "821ffd15-2a8a-4f98-87ee-b4528e75ffe6"
      },
      "source": [
        "mean_squared_error(y, y_pred)"
      ],
      "execution_count": 51,
      "outputs": [
        {
          "output_type": "execute_result",
          "data": {
            "text/plain": [
              "107.2118027345053"
            ]
          },
          "metadata": {
            "tags": []
          },
          "execution_count": 51
        }
      ]
    },
    {
      "cell_type": "code",
      "metadata": {
        "id": "NJclYpWPxTYk"
      },
      "source": [
        "results = pd.DataFrame({\n",
        "    'y_original' : y, \n",
        "    'y_predicted' : y_pred,\n",
        "    'percentage_error' : (np.abs(y - y_pred)**2 / y)\n",
        "    })"
      ],
      "execution_count": 56,
      "outputs": []
    },
    {
      "cell_type": "code",
      "metadata": {
        "colab": {
          "base_uri": "https://localhost:8080/",
          "height": 204
        },
        "id": "izA4QGcvzWdI",
        "outputId": "0248c402-aa9f-4847-ea5e-8cc62cd51238"
      },
      "source": [
        "results.head()"
      ],
      "execution_count": 60,
      "outputs": [
        {
          "output_type": "execute_result",
          "data": {
            "text/html": [
              "<div>\n",
              "<style scoped>\n",
              "    .dataframe tbody tr th:only-of-type {\n",
              "        vertical-align: middle;\n",
              "    }\n",
              "\n",
              "    .dataframe tbody tr th {\n",
              "        vertical-align: top;\n",
              "    }\n",
              "\n",
              "    .dataframe thead th {\n",
              "        text-align: right;\n",
              "    }\n",
              "</style>\n",
              "<table border=\"1\" class=\"dataframe\">\n",
              "  <thead>\n",
              "    <tr style=\"text-align: right;\">\n",
              "      <th></th>\n",
              "      <th>y_original</th>\n",
              "      <th>y_predicted</th>\n",
              "      <th>percentage_error</th>\n",
              "    </tr>\n",
              "  </thead>\n",
              "  <tbody>\n",
              "    <tr>\n",
              "      <th>0</th>\n",
              "      <td>79.986111</td>\n",
              "      <td>53.472859</td>\n",
              "      <td>8.788432</td>\n",
              "    </tr>\n",
              "    <tr>\n",
              "      <th>1</th>\n",
              "      <td>61.887366</td>\n",
              "      <td>53.743312</td>\n",
              "      <td>1.071715</td>\n",
              "    </tr>\n",
              "    <tr>\n",
              "      <th>2</th>\n",
              "      <td>40.269535</td>\n",
              "      <td>56.811947</td>\n",
              "      <td>6.795494</td>\n",
              "    </tr>\n",
              "    <tr>\n",
              "      <th>3</th>\n",
              "      <td>41.052780</td>\n",
              "      <td>67.663381</td>\n",
              "      <td>17.249115</td>\n",
              "    </tr>\n",
              "    <tr>\n",
              "      <th>4</th>\n",
              "      <td>44.296075</td>\n",
              "      <td>60.917232</td>\n",
              "      <td>6.236734</td>\n",
              "    </tr>\n",
              "  </tbody>\n",
              "</table>\n",
              "</div>"
            ],
            "text/plain": [
              "   y_original  y_predicted  percentage_error\n",
              "0   79.986111    53.472859          8.788432\n",
              "1   61.887366    53.743312          1.071715\n",
              "2   40.269535    56.811947          6.795494\n",
              "3   41.052780    67.663381         17.249115\n",
              "4   44.296075    60.917232          6.236734"
            ]
          },
          "metadata": {
            "tags": []
          },
          "execution_count": 60
        }
      ]
    },
    {
      "cell_type": "code",
      "metadata": {
        "colab": {
          "base_uri": "https://localhost:8080/"
        },
        "id": "T8z19tpBxtZf",
        "outputId": "fee986c6-ee48-4e3d-ea1c-e7bdab244d0d"
      },
      "source": [
        "results.percentage_error.describe()"
      ],
      "execution_count": 59,
      "outputs": [
        {
          "output_type": "execute_result",
          "data": {
            "text/plain": [
              "count    1.030000e+03\n",
              "mean     3.959875e+00\n",
              "std      7.477215e+00\n",
              "min      4.388620e-11\n",
              "25%      3.383897e-01\n",
              "50%      1.411456e+00\n",
              "75%      4.154718e+00\n",
              "max      9.061601e+01\n",
              "Name: percentage_error, dtype: float64"
            ]
          },
          "metadata": {
            "tags": []
          },
          "execution_count": 59
        }
      ]
    },
    {
      "cell_type": "code",
      "metadata": {
        "id": "yGaxcx0PxyII"
      },
      "source": [
        ""
      ],
      "execution_count": null,
      "outputs": []
    }
  ]
}
